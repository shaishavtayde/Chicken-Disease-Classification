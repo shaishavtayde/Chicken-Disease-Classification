{
 "cells": [
  {
   "cell_type": "code",
   "execution_count": 1,
   "metadata": {},
   "outputs": [],
   "source": [
    "import os"
   ]
  },
  {
   "cell_type": "code",
   "execution_count": 2,
   "metadata": {},
   "outputs": [
    {
     "data": {
      "text/plain": [
       "'c:\\\\Users\\\\SHAISHAV\\\\Desktop\\\\Chicken-Disease-Classification\\\\research'"
      ]
     },
     "execution_count": 2,
     "metadata": {},
     "output_type": "execute_result"
    }
   ],
   "source": [
    "%pwd"
   ]
  },
  {
   "cell_type": "code",
   "execution_count": 3,
   "metadata": {},
   "outputs": [],
   "source": [
    "os.chdir(\"../\")"
   ]
  },
  {
   "cell_type": "code",
   "execution_count": 4,
   "metadata": {},
   "outputs": [
    {
     "data": {
      "text/plain": [
       "'c:\\\\Users\\\\SHAISHAV\\\\Desktop\\\\Chicken-Disease-Classification'"
      ]
     },
     "execution_count": 4,
     "metadata": {},
     "output_type": "execute_result"
    }
   ],
   "source": [
    "%pwd"
   ]
  },
  {
   "cell_type": "code",
   "execution_count": 6,
   "metadata": {},
   "outputs": [],
   "source": [
    "from dataclasses import dataclass\n",
    "from pathlib import Path\n",
    "\n",
    "#Entity type for prepare data pipeline\n",
    "@dataclass(frozen=True)\n",
    "class PrepareBaseModelConfig:\n",
    "    root_dir: Path\n",
    "    base_model_path: Path\n",
    "    updated_base_model_path: Path\n",
    "    params_image_size: list\n",
    "    params_learning_rate: float\n",
    "    params_include_top: bool\n",
    "    params_weights: str\n",
    "    params_classes: int\n",
    "    "
   ]
  },
  {
   "cell_type": "code",
   "execution_count": 7,
   "metadata": {},
   "outputs": [],
   "source": [
    "from cnnClassifier.constants import *\n",
    "from cnnClassifier.utils.common import read_yaml, create_directories\n"
   ]
  },
  {
   "cell_type": "code",
   "execution_count": 8,
   "metadata": {},
   "outputs": [],
   "source": [
    "class ConfigurationManager:\n",
    "    def __init__(   #To configure entity defined in config and take params from params.yaml\n",
    "        self,\n",
    "        config_filepath = CONFIG_FILE_PATH,\n",
    "        params_filepath = PARAMS_FILE_PATH):\n",
    "        self.config = read_yaml(config_filepath)\n",
    "        self.params = read_yaml(params_filepath)\n",
    "        create_directories([self.config.artifacts_root])\n",
    "    \n",
    "    def get_prepare_base_model_config(self) -> PrepareBaseModelConfig:\n",
    "        config = self.config.prepare_base_model\n",
    "\n",
    "        create_directories([config.root_dir])\n",
    "\n",
    "        prepare_base_model_config = PrepareBaseModelConfig(\n",
    "            root_dir=Path(config.root_dir),\n",
    "            base_model_path=Path(config.base_model_path),\n",
    "            updated_base_model_path=Path(config.updated_base_model_path),\n",
    "            params_image_size=self.params.IMAGE_SIZE,\n",
    "            params_learning_rate=self.params.LEARNING_RATE,\n",
    "            params_include_top=self.params.INCLUDE_TOP,\n",
    "            params_weights=self.params.WEIGHTS,\n",
    "            params_classes=self.params.CLASSES\n",
    "        )\n",
    "\n",
    "        return prepare_base_model_config"
   ]
  },
  {
   "cell_type": "code",
   "execution_count": 9,
   "metadata": {},
   "outputs": [],
   "source": [
    "import os\n",
    "import urllib.request as request\n",
    "from zipfile import ZipFile\n",
    "import tensorflow as tf"
   ]
  },
  {
   "cell_type": "code",
   "execution_count": 12,
   "metadata": {},
   "outputs": [],
   "source": [
    "#the above code is used to prepare the configuration, setting up all the files and varibales needed to run the model\n",
    "#this code is used to execute or prepare the base model\n",
    "class PrepareBaseModel:\n",
    "    def __init__(\n",
    "        self,\n",
    "        config: PrepareBaseModelConfig):\n",
    "        self.config = config\n",
    "\n",
    "    def get_base_model(self):\n",
    "        self.model = tf.keras.applications.vgg16.VGG16(\n",
    "            input_shape = self.config.params_image_size,\n",
    "            weights = self.config.params_weights,\n",
    "            include_top = self.config.params_include_top\n",
    "        )\n",
    "\n",
    "        self.save_model(path=self.config.updated_base_model_path, model = self.model)\n",
    "    \n",
    "    @staticmethod\n",
    "    def _prepare_full_model(model, classes, freeze_all, freeze_till, learning_rate):\n",
    "         # If freeze_all is True, make all layers of the model non-trainable\n",
    "        if freeze_all:\n",
    "            for layer in model.layers:\n",
    "                model.trainable = False\n",
    "        # If freeze_till is specified and greater than 0, freeze layers until the specified index\n",
    "        elif(freeze_till is not None) and (freeze_till > 0):\n",
    "            for layer in model.layers[:-freeze_till]:\n",
    "                model.trainable = False\n",
    "\n",
    "        # Flatten the output of the model\n",
    "        flatten_in = tf.keras.layers.Flatten()(model.output)\n",
    "        \n",
    "        # Add a Dense layer for classification with softmax activation\n",
    "        prediction = tf.keras.layers.Dense(\n",
    "            units = classes,\n",
    "            activation ='softmax'\n",
    "        )(flatten_in)\n",
    "\n",
    "        # This line creates a new Keras Model. It takes the input tensor (model.input) and the output tensor (prediction) and constructs a new model that connects these two tensors. In other words, it builds a model with the same input structure as the original model but with an additional classification layer.\n",
    "        '''\n",
    "    The original model (model) might have been pre-trained on a different task or dataset. By creating a new model (full_model) with a modified top (classification) layer, you are adapting the model to your specific classification task (in this case, distinguishing between coccidiosis and healthy fecal samples of chickens).\n",
    "\n",
    "This process is common in transfer learning, where a pre-trained model is used as a starting point and fine-tuned for a specific task. The lower layers of the model, which capture general features, are often kept frozen, while the top layers are modified or replaced to suit the new task.\n",
    "\n",
    "The new full_model retains the knowledge gained by the original model and adapts it to the target classification problem.\n",
    "\n",
    "In summary, this line of code creates a new model tailored to the specific classification task by adding a classification layer on top of the existing pre-trained layers.'''\n",
    "        \n",
    "        full_model = tf.keras.models.Model(\n",
    "            inputs = model.input,\n",
    "            outputs = prediction\n",
    "        )\n",
    "\n",
    "\n",
    "        '''optimizer=tf.keras.optimizers.SGD(learning_rate=learning_rate):\n",
    "\n",
    "This line specifies the optimizer used for training the neural network. Here, it's using Stochastic Gradient Descent (SGD) as the optimizer.\n",
    "learning_rate=learning_rate sets the learning rate for the optimizer. The learning rate determines the step size taken during optimization and is a crucial hyperparameter.\n",
    "loss=tf.keras.losses.CategoricalCrossentropy():\n",
    "\n",
    "This line specifies the loss function used during training. The loss function measures the difference between the predicted output and the actual target (ground truth).\n",
    "CategoricalCrossentropy() is commonly used for multi-class classification problems where each sample belongs to exactly one class. It is suitable for scenarios where the classes are exclusive, such as in this case with coccidiosis and healthy fecal samples.\n",
    "metrics=[\"accuracy\"]:\n",
    "\n",
    "This line specifies the metrics used to evaluate the model during training. Here, it's using accuracy as the evaluation metric.\n",
    "The accuracy metric measures the proportion of correctly classified samples over the total number of samples.'''\n",
    "\n",
    "        full_model.compile(\n",
    "            optimizer = tf.keras.optimizers.SGD(learning_rate=learning_rate),\n",
    "            loss = tf.keras.losses.CategoricalCrossentropy(),\n",
    "            metrics=[\"accuracy\"]\n",
    "        )\n",
    "\n",
    "    # the compilation step is a crucial setup phase before training the model. It defines how the model will learn from the data (optimizer),\n",
    "    # how it will measure its performance (loss function), and what metrics will be used to evaluate its accuracy during training.\n",
    "            \n",
    "        full_model.summary()\n",
    "\n",
    "        return full_model\n",
    "    \n",
    "    def update_base_model(self):\n",
    "        self.full_model = self._prepare_full_model(\n",
    "            model = self.model, #referenced first in get_base_model()\n",
    "            classes = self.config.params_classes,\n",
    "            freeze_all = True,\n",
    "            freeze_till = None,\n",
    "            learning_rate = self.config.params_learning_rate\n",
    "        )\n",
    "\n",
    "        self.save_model(path = self.config.updated_base_model_path, model = self.full_model)\n",
    "\n",
    "    \n",
    "    # This function is used to save the model to disk.\n",
    "    @staticmethod\n",
    "    def save_model(path: Path, model: tf.keras.Model):\n",
    "        model.save(path)\n"
   ]
  },
  {
   "cell_type": "code",
   "execution_count": null,
   "metadata": {},
   "outputs": [],
   "source": [
    "try:\n",
    "    config = ConfigurationManager()\n",
    "    prepare_base_model "
   ]
  }
 ],
 "metadata": {
  "kernelspec": {
   "display_name": "chicken",
   "language": "python",
   "name": "python3"
  },
  "language_info": {
   "codemirror_mode": {
    "name": "ipython",
    "version": 3
   },
   "file_extension": ".py",
   "mimetype": "text/x-python",
   "name": "python",
   "nbconvert_exporter": "python",
   "pygments_lexer": "ipython3",
   "version": "3.8.18"
  }
 },
 "nbformat": 4,
 "nbformat_minor": 2
}
